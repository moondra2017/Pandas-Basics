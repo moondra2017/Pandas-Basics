{
 "cells": [
  {
   "cell_type": "code",
   "execution_count": 1,
   "metadata": {},
   "outputs": [],
   "source": [
    "import pandas as pd\n",
    "import numpy as np"
   ]
  },
  {
   "cell_type": "code",
   "execution_count": 2,
   "metadata": {},
   "outputs": [
    {
     "data": {
      "text/plain": [
       "'0.24.2'"
      ]
     },
     "execution_count": 2,
     "metadata": {},
     "output_type": "execute_result"
    }
   ],
   "source": [
    "pd.__version__"
   ]
  },
  {
   "cell_type": "markdown",
   "metadata": {},
   "source": [
    "## Multiple ways of creating a series"
   ]
  },
  {
   "cell_type": "markdown",
   "metadata": {},
   "source": [
    "`Array`\n",
    "--------"
   ]
  },
  {
   "cell_type": "code",
   "execution_count": 3,
   "metadata": {},
   "outputs": [],
   "source": [
    "values = np.linspace(0,20,15)"
   ]
  },
  {
   "cell_type": "code",
   "execution_count": 4,
   "metadata": {},
   "outputs": [],
   "source": [
    "s = pd.Series(values, name = \"series1\")"
   ]
  },
  {
   "cell_type": "code",
   "execution_count": 5,
   "metadata": {},
   "outputs": [
    {
     "data": {
      "text/plain": [
       "0    0.000000\n",
       "1    1.428571\n",
       "2    2.857143\n",
       "3    4.285714\n",
       "4    5.714286\n",
       "Name: series1, dtype: float64"
      ]
     },
     "execution_count": 5,
     "metadata": {},
     "output_type": "execute_result"
    }
   ],
   "source": [
    "s.head()"
   ]
  },
  {
   "cell_type": "markdown",
   "metadata": {},
   "source": [
    "`List`\n",
    "--------"
   ]
  },
  {
   "cell_type": "code",
   "execution_count": 6,
   "metadata": {},
   "outputs": [],
   "source": [
    "values = list(range(0,20,2))"
   ]
  },
  {
   "cell_type": "code",
   "execution_count": 7,
   "metadata": {},
   "outputs": [
    {
     "data": {
      "text/plain": [
       "[0, 2, 4, 6, 8, 10, 12, 14, 16, 18]"
      ]
     },
     "execution_count": 7,
     "metadata": {},
     "output_type": "execute_result"
    }
   ],
   "source": [
    "values"
   ]
  },
  {
   "cell_type": "code",
   "execution_count": 8,
   "metadata": {},
   "outputs": [],
   "source": [
    "s = pd.Series(values, name = \"series1\")"
   ]
  },
  {
   "cell_type": "code",
   "execution_count": 9,
   "metadata": {},
   "outputs": [
    {
     "data": {
      "text/plain": [
       "0    0\n",
       "1    2\n",
       "2    4\n",
       "3    6\n",
       "4    8\n",
       "Name: series1, dtype: int64"
      ]
     },
     "execution_count": 9,
     "metadata": {},
     "output_type": "execute_result"
    }
   ],
   "source": [
    "s.head()"
   ]
  },
  {
   "cell_type": "markdown",
   "metadata": {},
   "source": [
    "`Using Single Value`\n",
    "--------------------"
   ]
  },
  {
   "cell_type": "code",
   "execution_count": 10,
   "metadata": {},
   "outputs": [],
   "source": [
    "s = pd.Series(3, range(10), name = \"series2\")"
   ]
  },
  {
   "cell_type": "code",
   "execution_count": 11,
   "metadata": {},
   "outputs": [
    {
     "data": {
      "text/plain": [
       "0    3\n",
       "1    3\n",
       "2    3\n",
       "3    3\n",
       "4    3\n",
       "Name: series2, dtype: int64"
      ]
     },
     "execution_count": 11,
     "metadata": {},
     "output_type": "execute_result"
    }
   ],
   "source": [
    "s.head()"
   ]
  },
  {
   "cell_type": "markdown",
   "metadata": {},
   "source": [
    "`Custom Index`\n",
    "--------------------"
   ]
  },
  {
   "cell_type": "code",
   "execution_count": 12,
   "metadata": {},
   "outputs": [],
   "source": [
    "\n",
    "\n",
    "s = pd.Series([1,2,3], index = ['a','b','c'], name = \"series3\")"
   ]
  },
  {
   "cell_type": "code",
   "execution_count": 13,
   "metadata": {},
   "outputs": [
    {
     "data": {
      "text/plain": [
       "a    1\n",
       "b    2\n",
       "c    3\n",
       "Name: series3, dtype: int64"
      ]
     },
     "execution_count": 13,
     "metadata": {},
     "output_type": "execute_result"
    }
   ],
   "source": [
    "s.head()"
   ]
  },
  {
   "cell_type": "markdown",
   "metadata": {},
   "source": [
    "` Dictionary`\n",
    "---------------------------------------"
   ]
  },
  {
   "cell_type": "code",
   "execution_count": 14,
   "metadata": {},
   "outputs": [],
   "source": [
    "\n",
    "values= [1,2,3]\n",
    "index = ['a','b','c']"
   ]
  },
  {
   "cell_type": "code",
   "execution_count": 15,
   "metadata": {},
   "outputs": [],
   "source": [
    "dict_ = {x:y for x,y in zip(index, values)}"
   ]
  },
  {
   "cell_type": "code",
   "execution_count": 16,
   "metadata": {},
   "outputs": [
    {
     "data": {
      "text/plain": [
       "{'a': 1, 'b': 2, 'c': 3}"
      ]
     },
     "execution_count": 16,
     "metadata": {},
     "output_type": "execute_result"
    }
   ],
   "source": [
    "dict_"
   ]
  },
  {
   "cell_type": "code",
   "execution_count": 17,
   "metadata": {},
   "outputs": [],
   "source": [
    "S = pd.Series(dict_)"
   ]
  },
  {
   "cell_type": "code",
   "execution_count": 18,
   "metadata": {},
   "outputs": [
    {
     "data": {
      "text/plain": [
       "a    1\n",
       "b    2\n",
       "c    3\n",
       "dtype: int64"
      ]
     },
     "execution_count": 18,
     "metadata": {},
     "output_type": "execute_result"
    }
   ],
   "source": [
    "S"
   ]
  },
  {
   "cell_type": "markdown",
   "metadata": {},
   "source": [
    "# Creating Dataframes"
   ]
  },
  {
   "cell_type": "markdown",
   "metadata": {},
   "source": [
    "` Dictionary`\n",
    "---------------------------------------"
   ]
  },
  {
   "cell_type": "code",
   "execution_count": 20,
   "metadata": {},
   "outputs": [],
   "source": [
    "locations = {\"Country\": [\"Japan\", \"Brazil\", \"India\"],\n",
    "            \"City\": [\"Tokyo\", \"Sao Paulo\", \"Mumbai\"]}"
   ]
  },
  {
   "cell_type": "code",
   "execution_count": 21,
   "metadata": {},
   "outputs": [],
   "source": [
    "df = pd.DataFrame(locations)"
   ]
  },
  {
   "cell_type": "code",
   "execution_count": 22,
   "metadata": {},
   "outputs": [
    {
     "data": {
      "text/html": [
       "<div>\n",
       "<style scoped>\n",
       "    .dataframe tbody tr th:only-of-type {\n",
       "        vertical-align: middle;\n",
       "    }\n",
       "\n",
       "    .dataframe tbody tr th {\n",
       "        vertical-align: top;\n",
       "    }\n",
       "\n",
       "    .dataframe thead th {\n",
       "        text-align: right;\n",
       "    }\n",
       "</style>\n",
       "<table border=\"1\" class=\"dataframe\">\n",
       "  <thead>\n",
       "    <tr style=\"text-align: right;\">\n",
       "      <th></th>\n",
       "      <th>Country</th>\n",
       "      <th>City</th>\n",
       "    </tr>\n",
       "  </thead>\n",
       "  <tbody>\n",
       "    <tr>\n",
       "      <th>0</th>\n",
       "      <td>Japan</td>\n",
       "      <td>Tokyo</td>\n",
       "    </tr>\n",
       "    <tr>\n",
       "      <th>1</th>\n",
       "      <td>Brazil</td>\n",
       "      <td>Sao Paulo</td>\n",
       "    </tr>\n",
       "    <tr>\n",
       "      <th>2</th>\n",
       "      <td>India</td>\n",
       "      <td>Mumbai</td>\n",
       "    </tr>\n",
       "  </tbody>\n",
       "</table>\n",
       "</div>"
      ],
      "text/plain": [
       "  Country       City\n",
       "0   Japan      Tokyo\n",
       "1  Brazil  Sao Paulo\n",
       "2   India     Mumbai"
      ]
     },
     "execution_count": 22,
     "metadata": {},
     "output_type": "execute_result"
    }
   ],
   "source": [
    "df.head()"
   ]
  },
  {
   "cell_type": "markdown",
   "metadata": {},
   "source": [
    "`Using Zipped list`\n",
    "---------------------------------------"
   ]
  },
  {
   "cell_type": "code",
   "execution_count": 30,
   "metadata": {},
   "outputs": [],
   "source": [
    "country =[\"Japan\", \"Brazil\", \"India\"]\n",
    "city =[\"Tokyo\", \"Sao Paulo\", \"Mumbai\"]"
   ]
  },
  {
   "cell_type": "code",
   "execution_count": 31,
   "metadata": {},
   "outputs": [],
   "source": [
    "locations = list(zip(country, city))"
   ]
  },
  {
   "cell_type": "code",
   "execution_count": 32,
   "metadata": {},
   "outputs": [
    {
     "data": {
      "text/plain": [
       "[('Japan', 'Tokyo'), ('Brazil', 'Sao Paulo'), ('India', 'Mumbai')]"
      ]
     },
     "execution_count": 32,
     "metadata": {},
     "output_type": "execute_result"
    }
   ],
   "source": [
    "locations"
   ]
  },
  {
   "cell_type": "code",
   "execution_count": 33,
   "metadata": {},
   "outputs": [],
   "source": [
    "columns = ['Country', 'City']\n"
   ]
  },
  {
   "cell_type": "code",
   "execution_count": 28,
   "metadata": {},
   "outputs": [],
   "source": [
    "df = pd.DataFrame(locations, columns = columns)"
   ]
  },
  {
   "cell_type": "code",
   "execution_count": 29,
   "metadata": {},
   "outputs": [
    {
     "data": {
      "text/html": [
       "<div>\n",
       "<style scoped>\n",
       "    .dataframe tbody tr th:only-of-type {\n",
       "        vertical-align: middle;\n",
       "    }\n",
       "\n",
       "    .dataframe tbody tr th {\n",
       "        vertical-align: top;\n",
       "    }\n",
       "\n",
       "    .dataframe thead th {\n",
       "        text-align: right;\n",
       "    }\n",
       "</style>\n",
       "<table border=\"1\" class=\"dataframe\">\n",
       "  <thead>\n",
       "    <tr style=\"text-align: right;\">\n",
       "      <th></th>\n",
       "      <th>Country</th>\n",
       "      <th>City</th>\n",
       "    </tr>\n",
       "  </thead>\n",
       "  <tbody>\n",
       "    <tr>\n",
       "      <th>0</th>\n",
       "      <td>Japan</td>\n",
       "      <td>Tokyo</td>\n",
       "    </tr>\n",
       "    <tr>\n",
       "      <th>1</th>\n",
       "      <td>Brazil</td>\n",
       "      <td>Sao Paul</td>\n",
       "    </tr>\n",
       "    <tr>\n",
       "      <th>2</th>\n",
       "      <td>India</td>\n",
       "      <td>Mumbai</td>\n",
       "    </tr>\n",
       "  </tbody>\n",
       "</table>\n",
       "</div>"
      ],
      "text/plain": [
       "  Country      City\n",
       "0   Japan     Tokyo\n",
       "1  Brazil  Sao Paul\n",
       "2   India    Mumbai"
      ]
     },
     "execution_count": 29,
     "metadata": {},
     "output_type": "execute_result"
    }
   ],
   "source": [
    "df.head()"
   ]
  },
  {
   "cell_type": "markdown",
   "metadata": {},
   "source": [
    "`Using CSV File`\n",
    "---------------------------------------\n"
   ]
  },
  {
   "cell_type": "code",
   "execution_count": 34,
   "metadata": {},
   "outputs": [],
   "source": [
    "#Let's save it to csv file\n",
    "\n",
    "df.to_csv(\"country.csv\")"
   ]
  },
  {
   "cell_type": "code",
   "execution_count": 37,
   "metadata": {},
   "outputs": [],
   "source": [
    "df = pd.read_csv(\"country.csv\", index_col = 0)"
   ]
  },
  {
   "cell_type": "code",
   "execution_count": 38,
   "metadata": {},
   "outputs": [
    {
     "data": {
      "text/html": [
       "<div>\n",
       "<style scoped>\n",
       "    .dataframe tbody tr th:only-of-type {\n",
       "        vertical-align: middle;\n",
       "    }\n",
       "\n",
       "    .dataframe tbody tr th {\n",
       "        vertical-align: top;\n",
       "    }\n",
       "\n",
       "    .dataframe thead th {\n",
       "        text-align: right;\n",
       "    }\n",
       "</style>\n",
       "<table border=\"1\" class=\"dataframe\">\n",
       "  <thead>\n",
       "    <tr style=\"text-align: right;\">\n",
       "      <th></th>\n",
       "      <th>Country</th>\n",
       "      <th>City</th>\n",
       "    </tr>\n",
       "  </thead>\n",
       "  <tbody>\n",
       "    <tr>\n",
       "      <th>0</th>\n",
       "      <td>Japan</td>\n",
       "      <td>Tokyo</td>\n",
       "    </tr>\n",
       "    <tr>\n",
       "      <th>1</th>\n",
       "      <td>Brazil</td>\n",
       "      <td>Sao Paul</td>\n",
       "    </tr>\n",
       "    <tr>\n",
       "      <th>2</th>\n",
       "      <td>India</td>\n",
       "      <td>Mumbai</td>\n",
       "    </tr>\n",
       "  </tbody>\n",
       "</table>\n",
       "</div>"
      ],
      "text/plain": [
       "  Country      City\n",
       "0   Japan     Tokyo\n",
       "1  Brazil  Sao Paul\n",
       "2   India    Mumbai"
      ]
     },
     "execution_count": 38,
     "metadata": {},
     "output_type": "execute_result"
    }
   ],
   "source": [
    "df.head()"
   ]
  },
  {
   "cell_type": "code",
   "execution_count": null,
   "metadata": {
    "collapsed": true
   },
   "outputs": [],
   "source": [
    "Method #4 Excel File"
   ]
  },
  {
   "cell_type": "code",
   "execution_count": 39,
   "metadata": {},
   "outputs": [],
   "source": [
    "df.to_excel(\"country.xlsx\") # need to install ModuleNotFoundError: No module named 'openpyxl"
   ]
  },
  {
   "cell_type": "code",
   "execution_count": 42,
   "metadata": {},
   "outputs": [],
   "source": [
    "df = pd.read_excel(\"country.xlsx\", index_col = 0) #xlrd"
   ]
  },
  {
   "cell_type": "code",
   "execution_count": 43,
   "metadata": {},
   "outputs": [
    {
     "data": {
      "text/html": [
       "<div>\n",
       "<style scoped>\n",
       "    .dataframe tbody tr th:only-of-type {\n",
       "        vertical-align: middle;\n",
       "    }\n",
       "\n",
       "    .dataframe tbody tr th {\n",
       "        vertical-align: top;\n",
       "    }\n",
       "\n",
       "    .dataframe thead th {\n",
       "        text-align: right;\n",
       "    }\n",
       "</style>\n",
       "<table border=\"1\" class=\"dataframe\">\n",
       "  <thead>\n",
       "    <tr style=\"text-align: right;\">\n",
       "      <th></th>\n",
       "      <th>Country</th>\n",
       "      <th>City</th>\n",
       "    </tr>\n",
       "  </thead>\n",
       "  <tbody>\n",
       "    <tr>\n",
       "      <th>0</th>\n",
       "      <td>Japan</td>\n",
       "      <td>Tokyo</td>\n",
       "    </tr>\n",
       "    <tr>\n",
       "      <th>1</th>\n",
       "      <td>Brazil</td>\n",
       "      <td>Sao Paul</td>\n",
       "    </tr>\n",
       "    <tr>\n",
       "      <th>2</th>\n",
       "      <td>India</td>\n",
       "      <td>Mumbai</td>\n",
       "    </tr>\n",
       "  </tbody>\n",
       "</table>\n",
       "</div>"
      ],
      "text/plain": [
       "  Country      City\n",
       "0   Japan     Tokyo\n",
       "1  Brazil  Sao Paul\n",
       "2   India    Mumbai"
      ]
     },
     "execution_count": 43,
     "metadata": {},
     "output_type": "execute_result"
    }
   ],
   "source": [
    "df.head()"
   ]
  },
  {
   "cell_type": "markdown",
   "metadata": {},
   "source": [
    "`Using html tables from websites`\n",
    "---------------------------------------\n"
   ]
  },
  {
   "cell_type": "code",
   "execution_count": 45,
   "metadata": {},
   "outputs": [],
   "source": [
    "url = \"http://www.espn.com/nba/standings\" #lxml"
   ]
  },
  {
   "cell_type": "code",
   "execution_count": 46,
   "metadata": {},
   "outputs": [],
   "source": [
    "dfs = pd.read_html(url, header = None, skiprows = 0)"
   ]
  },
  {
   "cell_type": "code",
   "execution_count": 47,
   "metadata": {},
   "outputs": [
    {
     "data": {
      "text/plain": [
       "8"
      ]
     },
     "execution_count": 47,
     "metadata": {},
     "output_type": "execute_result"
    }
   ],
   "source": [
    "len(dfs)"
   ]
  },
  {
   "cell_type": "code",
   "execution_count": null,
   "metadata": {},
   "outputs": [],
   "source": [
    "dfs[3]"
   ]
  },
  {
   "cell_type": "code",
   "execution_count": null,
   "metadata": {},
   "outputs": [],
   "source": [
    "dfs[1]"
   ]
  },
  {
   "cell_type": "code",
   "execution_count": 54,
   "metadata": {},
   "outputs": [
    {
     "data": {
      "text/plain": [
       "Index(['1* --MILMilwaukee Bucks'], dtype='object')"
      ]
     },
     "execution_count": 54,
     "metadata": {},
     "output_type": "execute_result"
    }
   ],
   "source": [
    "dfs[1].columns"
   ]
  },
  {
   "cell_type": "code",
   "execution_count": 55,
   "metadata": {},
   "outputs": [
    {
     "data": {
      "text/plain": [
       "pandas.core.frame.DataFrame"
      ]
     },
     "execution_count": 55,
     "metadata": {},
     "output_type": "execute_result"
    }
   ],
   "source": [
    "type(dfs[1])"
   ]
  },
  {
   "cell_type": "code",
   "execution_count": null,
   "metadata": {},
   "outputs": [],
   "source": [
    "dfs[1]"
   ]
  },
  {
   "cell_type": "code",
   "execution_count": 57,
   "metadata": {},
   "outputs": [],
   "source": [
    "index = pd.DataFrame(np.vstack([dfs[1].columns, dfs[1]])).values"
   ]
  },
  {
   "cell_type": "code",
   "execution_count": 58,
   "metadata": {},
   "outputs": [
    {
     "data": {
      "text/plain": [
       "array([['1* --MILMilwaukee Bucks'],\n",
       "       ['2y --TORToronto Raptors'],\n",
       "       ['3x --PHIPhiladelphia 76ers'],\n",
       "       ['4x --BOSBoston Celtics'],\n",
       "       ['5x --INDIndiana Pacers'],\n",
       "       ['6x --BKNBrooklyn Nets'],\n",
       "       ['7y --ORLOrlando Magic'],\n",
       "       ['8x --DETDetroit Pistons'],\n",
       "       ['e --CHACharlotte Hornets'],\n",
       "       ['e --MIAMiami Heat'],\n",
       "       ['e --WSHWashington Wizards'],\n",
       "       ['e --ATLAtlanta Hawks'],\n",
       "       ['e --CHIChicago Bulls'],\n",
       "       ['e --CLECleveland Cavaliers'],\n",
       "       ['e --NYNew York Knicks']], dtype=object)"
      ]
     },
     "execution_count": 58,
     "metadata": {},
     "output_type": "execute_result"
    }
   ],
   "source": [
    "index"
   ]
  },
  {
   "cell_type": "code",
   "execution_count": 60,
   "metadata": {},
   "outputs": [
    {
     "data": {
      "text/html": [
       "<div>\n",
       "<style scoped>\n",
       "    .dataframe tbody tr th:only-of-type {\n",
       "        vertical-align: middle;\n",
       "    }\n",
       "\n",
       "    .dataframe tbody tr th {\n",
       "        vertical-align: top;\n",
       "    }\n",
       "\n",
       "    .dataframe thead th {\n",
       "        text-align: right;\n",
       "    }\n",
       "</style>\n",
       "<table border=\"1\" class=\"dataframe\">\n",
       "  <thead>\n",
       "    <tr style=\"text-align: right;\">\n",
       "      <th></th>\n",
       "      <th>W</th>\n",
       "      <th>L</th>\n",
       "      <th>PCT</th>\n",
       "      <th>GB</th>\n",
       "      <th>HOME</th>\n",
       "      <th>AWAY</th>\n",
       "      <th>DIV</th>\n",
       "      <th>CONF</th>\n",
       "      <th>PPG</th>\n",
       "      <th>OPP PPG</th>\n",
       "      <th>DIFF</th>\n",
       "      <th>STRK</th>\n",
       "      <th>L10</th>\n",
       "    </tr>\n",
       "  </thead>\n",
       "  <tbody>\n",
       "    <tr>\n",
       "      <th>0</th>\n",
       "      <td>60</td>\n",
       "      <td>22</td>\n",
       "      <td>0.732</td>\n",
       "      <td>-</td>\n",
       "      <td>33-8</td>\n",
       "      <td>27-14</td>\n",
       "      <td>14-2</td>\n",
       "      <td>40-12</td>\n",
       "      <td>118.1</td>\n",
       "      <td>109.3</td>\n",
       "      <td>8.8</td>\n",
       "      <td>L1</td>\n",
       "      <td>7-3</td>\n",
       "    </tr>\n",
       "    <tr>\n",
       "      <th>1</th>\n",
       "      <td>58</td>\n",
       "      <td>24</td>\n",
       "      <td>0.707</td>\n",
       "      <td>2</td>\n",
       "      <td>32-9</td>\n",
       "      <td>26-15</td>\n",
       "      <td>12-4</td>\n",
       "      <td>36-16</td>\n",
       "      <td>114.4</td>\n",
       "      <td>108.4</td>\n",
       "      <td>6.0</td>\n",
       "      <td>W2</td>\n",
       "      <td>7-3</td>\n",
       "    </tr>\n",
       "    <tr>\n",
       "      <th>2</th>\n",
       "      <td>51</td>\n",
       "      <td>31</td>\n",
       "      <td>0.622</td>\n",
       "      <td>9</td>\n",
       "      <td>31-10</td>\n",
       "      <td>20-21</td>\n",
       "      <td>8-8</td>\n",
       "      <td>31-21</td>\n",
       "      <td>115.2</td>\n",
       "      <td>112.5</td>\n",
       "      <td>2.7</td>\n",
       "      <td>W1</td>\n",
       "      <td>4-6</td>\n",
       "    </tr>\n",
       "    <tr>\n",
       "      <th>3</th>\n",
       "      <td>49</td>\n",
       "      <td>33</td>\n",
       "      <td>0.598</td>\n",
       "      <td>11</td>\n",
       "      <td>28-13</td>\n",
       "      <td>21-20</td>\n",
       "      <td>10-6</td>\n",
       "      <td>35-17</td>\n",
       "      <td>112.4</td>\n",
       "      <td>108.0</td>\n",
       "      <td>4.4</td>\n",
       "      <td>W1</td>\n",
       "      <td>6-4</td>\n",
       "    </tr>\n",
       "    <tr>\n",
       "      <th>4</th>\n",
       "      <td>48</td>\n",
       "      <td>34</td>\n",
       "      <td>0.585</td>\n",
       "      <td>12</td>\n",
       "      <td>29-12</td>\n",
       "      <td>19-22</td>\n",
       "      <td>11-5</td>\n",
       "      <td>33-19</td>\n",
       "      <td>108.0</td>\n",
       "      <td>104.7</td>\n",
       "      <td>3.3</td>\n",
       "      <td>W1</td>\n",
       "      <td>4-6</td>\n",
       "    </tr>\n",
       "  </tbody>\n",
       "</table>\n",
       "</div>"
      ],
      "text/plain": [
       "    W   L    PCT  GB   HOME   AWAY   DIV   CONF    PPG  OPP PPG  DIFF STRK  \\\n",
       "0  60  22  0.732   -   33-8  27-14  14-2  40-12  118.1    109.3   8.8   L1   \n",
       "1  58  24  0.707   2   32-9  26-15  12-4  36-16  114.4    108.4   6.0   W2   \n",
       "2  51  31  0.622   9  31-10  20-21   8-8  31-21  115.2    112.5   2.7   W1   \n",
       "3  49  33  0.598  11  28-13  21-20  10-6  35-17  112.4    108.0   4.4   W1   \n",
       "4  48  34  0.585  12  29-12  19-22  11-5  33-19  108.0    104.7   3.3   W1   \n",
       "\n",
       "   L10  \n",
       "0  7-3  \n",
       "1  7-3  \n",
       "2  4-6  \n",
       "3  6-4  \n",
       "4  4-6  "
      ]
     },
     "execution_count": 60,
     "metadata": {},
     "output_type": "execute_result"
    }
   ],
   "source": [
    "dfs[3].head()"
   ]
  },
  {
   "cell_type": "code",
   "execution_count": 61,
   "metadata": {},
   "outputs": [
    {
     "data": {
      "text/html": [
       "<div>\n",
       "<style scoped>\n",
       "    .dataframe tbody tr th:only-of-type {\n",
       "        vertical-align: middle;\n",
       "    }\n",
       "\n",
       "    .dataframe tbody tr th {\n",
       "        vertical-align: top;\n",
       "    }\n",
       "\n",
       "    .dataframe thead th {\n",
       "        text-align: right;\n",
       "    }\n",
       "</style>\n",
       "<table border=\"1\" class=\"dataframe\">\n",
       "  <thead>\n",
       "    <tr style=\"text-align: right;\">\n",
       "      <th></th>\n",
       "      <th>W</th>\n",
       "      <th>L</th>\n",
       "      <th>PCT</th>\n",
       "      <th>GB</th>\n",
       "      <th>HOME</th>\n",
       "      <th>AWAY</th>\n",
       "      <th>DIV</th>\n",
       "      <th>CONF</th>\n",
       "      <th>PPG</th>\n",
       "      <th>OPP PPG</th>\n",
       "      <th>DIFF</th>\n",
       "      <th>STRK</th>\n",
       "      <th>L10</th>\n",
       "    </tr>\n",
       "  </thead>\n",
       "  <tbody>\n",
       "    <tr>\n",
       "      <th>(1* --MILMilwaukee Bucks,)</th>\n",
       "      <td>60</td>\n",
       "      <td>22</td>\n",
       "      <td>0.732</td>\n",
       "      <td>-</td>\n",
       "      <td>33-8</td>\n",
       "      <td>27-14</td>\n",
       "      <td>14-2</td>\n",
       "      <td>40-12</td>\n",
       "      <td>118.1</td>\n",
       "      <td>109.3</td>\n",
       "      <td>8.8</td>\n",
       "      <td>L1</td>\n",
       "      <td>7-3</td>\n",
       "    </tr>\n",
       "    <tr>\n",
       "      <th>(2y --TORToronto Raptors,)</th>\n",
       "      <td>58</td>\n",
       "      <td>24</td>\n",
       "      <td>0.707</td>\n",
       "      <td>2</td>\n",
       "      <td>32-9</td>\n",
       "      <td>26-15</td>\n",
       "      <td>12-4</td>\n",
       "      <td>36-16</td>\n",
       "      <td>114.4</td>\n",
       "      <td>108.4</td>\n",
       "      <td>6.0</td>\n",
       "      <td>W2</td>\n",
       "      <td>7-3</td>\n",
       "    </tr>\n",
       "    <tr>\n",
       "      <th>(3x --PHIPhiladelphia 76ers,)</th>\n",
       "      <td>51</td>\n",
       "      <td>31</td>\n",
       "      <td>0.622</td>\n",
       "      <td>9</td>\n",
       "      <td>31-10</td>\n",
       "      <td>20-21</td>\n",
       "      <td>8-8</td>\n",
       "      <td>31-21</td>\n",
       "      <td>115.2</td>\n",
       "      <td>112.5</td>\n",
       "      <td>2.7</td>\n",
       "      <td>W1</td>\n",
       "      <td>4-6</td>\n",
       "    </tr>\n",
       "    <tr>\n",
       "      <th>(4x --BOSBoston Celtics,)</th>\n",
       "      <td>49</td>\n",
       "      <td>33</td>\n",
       "      <td>0.598</td>\n",
       "      <td>11</td>\n",
       "      <td>28-13</td>\n",
       "      <td>21-20</td>\n",
       "      <td>10-6</td>\n",
       "      <td>35-17</td>\n",
       "      <td>112.4</td>\n",
       "      <td>108.0</td>\n",
       "      <td>4.4</td>\n",
       "      <td>W1</td>\n",
       "      <td>6-4</td>\n",
       "    </tr>\n",
       "    <tr>\n",
       "      <th>(5x --INDIndiana Pacers,)</th>\n",
       "      <td>48</td>\n",
       "      <td>34</td>\n",
       "      <td>0.585</td>\n",
       "      <td>12</td>\n",
       "      <td>29-12</td>\n",
       "      <td>19-22</td>\n",
       "      <td>11-5</td>\n",
       "      <td>33-19</td>\n",
       "      <td>108.0</td>\n",
       "      <td>104.7</td>\n",
       "      <td>3.3</td>\n",
       "      <td>W1</td>\n",
       "      <td>4-6</td>\n",
       "    </tr>\n",
       "    <tr>\n",
       "      <th>(6x --BKNBrooklyn Nets,)</th>\n",
       "      <td>42</td>\n",
       "      <td>40</td>\n",
       "      <td>0.512</td>\n",
       "      <td>18</td>\n",
       "      <td>23-18</td>\n",
       "      <td>19-22</td>\n",
       "      <td>8-8</td>\n",
       "      <td>29-23</td>\n",
       "      <td>112.2</td>\n",
       "      <td>112.3</td>\n",
       "      <td>-0.1</td>\n",
       "      <td>W3</td>\n",
       "      <td>6-4</td>\n",
       "    </tr>\n",
       "    <tr>\n",
       "      <th>(7y --ORLOrlando Magic,)</th>\n",
       "      <td>42</td>\n",
       "      <td>40</td>\n",
       "      <td>0.512</td>\n",
       "      <td>18</td>\n",
       "      <td>25-16</td>\n",
       "      <td>17-24</td>\n",
       "      <td>10-6</td>\n",
       "      <td>30-22</td>\n",
       "      <td>107.3</td>\n",
       "      <td>106.6</td>\n",
       "      <td>0.7</td>\n",
       "      <td>W4</td>\n",
       "      <td>8-2</td>\n",
       "    </tr>\n",
       "    <tr>\n",
       "      <th>(8x --DETDetroit Pistons,)</th>\n",
       "      <td>41</td>\n",
       "      <td>41</td>\n",
       "      <td>0.500</td>\n",
       "      <td>19</td>\n",
       "      <td>26-15</td>\n",
       "      <td>15-26</td>\n",
       "      <td>8-8</td>\n",
       "      <td>27-25</td>\n",
       "      <td>107.0</td>\n",
       "      <td>107.3</td>\n",
       "      <td>-0.3</td>\n",
       "      <td>W2</td>\n",
       "      <td>4-6</td>\n",
       "    </tr>\n",
       "    <tr>\n",
       "      <th>(e --CHACharlotte Hornets,)</th>\n",
       "      <td>39</td>\n",
       "      <td>43</td>\n",
       "      <td>0.476</td>\n",
       "      <td>21</td>\n",
       "      <td>25-16</td>\n",
       "      <td>14-27</td>\n",
       "      <td>10-6</td>\n",
       "      <td>29-23</td>\n",
       "      <td>110.7</td>\n",
       "      <td>111.8</td>\n",
       "      <td>-1.1</td>\n",
       "      <td>L1</td>\n",
       "      <td>6-4</td>\n",
       "    </tr>\n",
       "    <tr>\n",
       "      <th>(e --MIAMiami Heat,)</th>\n",
       "      <td>39</td>\n",
       "      <td>43</td>\n",
       "      <td>0.476</td>\n",
       "      <td>21</td>\n",
       "      <td>19-22</td>\n",
       "      <td>20-21</td>\n",
       "      <td>7-9</td>\n",
       "      <td>23-29</td>\n",
       "      <td>105.7</td>\n",
       "      <td>105.9</td>\n",
       "      <td>-0.2</td>\n",
       "      <td>L1</td>\n",
       "      <td>4-6</td>\n",
       "    </tr>\n",
       "    <tr>\n",
       "      <th>(e --WSHWashington Wizards,)</th>\n",
       "      <td>32</td>\n",
       "      <td>50</td>\n",
       "      <td>0.390</td>\n",
       "      <td>28</td>\n",
       "      <td>22-19</td>\n",
       "      <td>10-31</td>\n",
       "      <td>7-9</td>\n",
       "      <td>19-33</td>\n",
       "      <td>114.0</td>\n",
       "      <td>116.9</td>\n",
       "      <td>-2.9</td>\n",
       "      <td>L4</td>\n",
       "      <td>2-8</td>\n",
       "    </tr>\n",
       "    <tr>\n",
       "      <th>(e --ATLAtlanta Hawks,)</th>\n",
       "      <td>29</td>\n",
       "      <td>53</td>\n",
       "      <td>0.354</td>\n",
       "      <td>31</td>\n",
       "      <td>17-24</td>\n",
       "      <td>12-29</td>\n",
       "      <td>6-10</td>\n",
       "      <td>16-36</td>\n",
       "      <td>113.3</td>\n",
       "      <td>119.4</td>\n",
       "      <td>-6.1</td>\n",
       "      <td>L3</td>\n",
       "      <td>5-5</td>\n",
       "    </tr>\n",
       "    <tr>\n",
       "      <th>(e --CHIChicago Bulls,)</th>\n",
       "      <td>22</td>\n",
       "      <td>60</td>\n",
       "      <td>0.268</td>\n",
       "      <td>38</td>\n",
       "      <td>9-32</td>\n",
       "      <td>13-28</td>\n",
       "      <td>3-13</td>\n",
       "      <td>16-36</td>\n",
       "      <td>104.9</td>\n",
       "      <td>113.4</td>\n",
       "      <td>-8.5</td>\n",
       "      <td>L3</td>\n",
       "      <td>2-8</td>\n",
       "    </tr>\n",
       "    <tr>\n",
       "      <th>(e --CLECleveland Cavaliers,)</th>\n",
       "      <td>19</td>\n",
       "      <td>63</td>\n",
       "      <td>0.232</td>\n",
       "      <td>41</td>\n",
       "      <td>13-28</td>\n",
       "      <td>6-35</td>\n",
       "      <td>4-12</td>\n",
       "      <td>15-37</td>\n",
       "      <td>104.5</td>\n",
       "      <td>114.1</td>\n",
       "      <td>-9.6</td>\n",
       "      <td>L10</td>\n",
       "      <td>0-10</td>\n",
       "    </tr>\n",
       "    <tr>\n",
       "      <th>(e --NYNew York Knicks,)</th>\n",
       "      <td>17</td>\n",
       "      <td>65</td>\n",
       "      <td>0.207</td>\n",
       "      <td>43</td>\n",
       "      <td>9-32</td>\n",
       "      <td>8-33</td>\n",
       "      <td>2-14</td>\n",
       "      <td>11-41</td>\n",
       "      <td>104.6</td>\n",
       "      <td>113.8</td>\n",
       "      <td>-9.2</td>\n",
       "      <td>L1</td>\n",
       "      <td>3-7</td>\n",
       "    </tr>\n",
       "  </tbody>\n",
       "</table>\n",
       "</div>"
      ],
      "text/plain": [
       "                                W   L    PCT  GB   HOME   AWAY   DIV   CONF  \\\n",
       "(1* --MILMilwaukee Bucks,)     60  22  0.732   -   33-8  27-14  14-2  40-12   \n",
       "(2y --TORToronto Raptors,)     58  24  0.707   2   32-9  26-15  12-4  36-16   \n",
       "(3x --PHIPhiladelphia 76ers,)  51  31  0.622   9  31-10  20-21   8-8  31-21   \n",
       "(4x --BOSBoston Celtics,)      49  33  0.598  11  28-13  21-20  10-6  35-17   \n",
       "(5x --INDIndiana Pacers,)      48  34  0.585  12  29-12  19-22  11-5  33-19   \n",
       "(6x --BKNBrooklyn Nets,)       42  40  0.512  18  23-18  19-22   8-8  29-23   \n",
       "(7y --ORLOrlando Magic,)       42  40  0.512  18  25-16  17-24  10-6  30-22   \n",
       "(8x --DETDetroit Pistons,)     41  41  0.500  19  26-15  15-26   8-8  27-25   \n",
       "(e --CHACharlotte Hornets,)    39  43  0.476  21  25-16  14-27  10-6  29-23   \n",
       "(e --MIAMiami Heat,)           39  43  0.476  21  19-22  20-21   7-9  23-29   \n",
       "(e --WSHWashington Wizards,)   32  50  0.390  28  22-19  10-31   7-9  19-33   \n",
       "(e --ATLAtlanta Hawks,)        29  53  0.354  31  17-24  12-29  6-10  16-36   \n",
       "(e --CHIChicago Bulls,)        22  60  0.268  38   9-32  13-28  3-13  16-36   \n",
       "(e --CLECleveland Cavaliers,)  19  63  0.232  41  13-28   6-35  4-12  15-37   \n",
       "(e --NYNew York Knicks,)       17  65  0.207  43   9-32   8-33  2-14  11-41   \n",
       "\n",
       "                                 PPG  OPP PPG  DIFF STRK   L10  \n",
       "(1* --MILMilwaukee Bucks,)     118.1    109.3   8.8   L1   7-3  \n",
       "(2y --TORToronto Raptors,)     114.4    108.4   6.0   W2   7-3  \n",
       "(3x --PHIPhiladelphia 76ers,)  115.2    112.5   2.7   W1   4-6  \n",
       "(4x --BOSBoston Celtics,)      112.4    108.0   4.4   W1   6-4  \n",
       "(5x --INDIndiana Pacers,)      108.0    104.7   3.3   W1   4-6  \n",
       "(6x --BKNBrooklyn Nets,)       112.2    112.3  -0.1   W3   6-4  \n",
       "(7y --ORLOrlando Magic,)       107.3    106.6   0.7   W4   8-2  \n",
       "(8x --DETDetroit Pistons,)     107.0    107.3  -0.3   W2   4-6  \n",
       "(e --CHACharlotte Hornets,)    110.7    111.8  -1.1   L1   6-4  \n",
       "(e --MIAMiami Heat,)           105.7    105.9  -0.2   L1   4-6  \n",
       "(e --WSHWashington Wizards,)   114.0    116.9  -2.9   L4   2-8  \n",
       "(e --ATLAtlanta Hawks,)        113.3    119.4  -6.1   L3   5-5  \n",
       "(e --CHIChicago Bulls,)        104.9    113.4  -8.5   L3   2-8  \n",
       "(e --CLECleveland Cavaliers,)  104.5    114.1  -9.6  L10  0-10  \n",
       "(e --NYNew York Knicks,)       104.6    113.8  -9.2   L1   3-7  "
      ]
     },
     "execution_count": 61,
     "metadata": {},
     "output_type": "execute_result"
    }
   ],
   "source": [
    "dfs[3].set_index(index)"
   ]
  },
  {
   "cell_type": "code",
   "execution_count": null,
   "metadata": {
    "collapsed": true
   },
   "outputs": [],
   "source": [
    "for df in dfs:\n",
    "    print(df.head())"
   ]
  },
  {
   "cell_type": "code",
   "execution_count": 62,
   "metadata": {},
   "outputs": [
    {
     "data": {
      "text/html": [
       "<div>\n",
       "<style scoped>\n",
       "    .dataframe tbody tr th:only-of-type {\n",
       "        vertical-align: middle;\n",
       "    }\n",
       "\n",
       "    .dataframe tbody tr th {\n",
       "        vertical-align: top;\n",
       "    }\n",
       "\n",
       "    .dataframe thead th {\n",
       "        text-align: right;\n",
       "    }\n",
       "</style>\n",
       "<table border=\"1\" class=\"dataframe\">\n",
       "  <thead>\n",
       "    <tr style=\"text-align: right;\">\n",
       "      <th></th>\n",
       "      <th>W</th>\n",
       "      <th>L</th>\n",
       "      <th>PCT</th>\n",
       "      <th>GB</th>\n",
       "      <th>HOME</th>\n",
       "      <th>AWAY</th>\n",
       "      <th>DIV</th>\n",
       "      <th>CONF</th>\n",
       "      <th>PPG</th>\n",
       "      <th>OPP PPG</th>\n",
       "      <th>DIFF</th>\n",
       "      <th>STRK</th>\n",
       "      <th>L10</th>\n",
       "    </tr>\n",
       "  </thead>\n",
       "  <tbody>\n",
       "    <tr>\n",
       "      <th>0</th>\n",
       "      <td>57</td>\n",
       "      <td>25</td>\n",
       "      <td>0.695</td>\n",
       "      <td>-</td>\n",
       "      <td>30-11</td>\n",
       "      <td>27-14</td>\n",
       "      <td>13-3</td>\n",
       "      <td>35-17</td>\n",
       "      <td>117.7</td>\n",
       "      <td>111.2</td>\n",
       "      <td>6.5</td>\n",
       "      <td>L1</td>\n",
       "      <td>8-2</td>\n",
       "    </tr>\n",
       "    <tr>\n",
       "      <th>1</th>\n",
       "      <td>54</td>\n",
       "      <td>28</td>\n",
       "      <td>0.659</td>\n",
       "      <td>3</td>\n",
       "      <td>34-7</td>\n",
       "      <td>20-21</td>\n",
       "      <td>12-4</td>\n",
       "      <td>34-18</td>\n",
       "      <td>110.7</td>\n",
       "      <td>106.7</td>\n",
       "      <td>4.0</td>\n",
       "      <td>W1</td>\n",
       "      <td>5-5</td>\n",
       "    </tr>\n",
       "    <tr>\n",
       "      <th>2</th>\n",
       "      <td>53</td>\n",
       "      <td>29</td>\n",
       "      <td>0.646</td>\n",
       "      <td>4</td>\n",
       "      <td>32-9</td>\n",
       "      <td>21-20</td>\n",
       "      <td>6-10</td>\n",
       "      <td>29-23</td>\n",
       "      <td>114.7</td>\n",
       "      <td>110.5</td>\n",
       "      <td>4.2</td>\n",
       "      <td>W3</td>\n",
       "      <td>8-2</td>\n",
       "    </tr>\n",
       "    <tr>\n",
       "      <th>3</th>\n",
       "      <td>53</td>\n",
       "      <td>29</td>\n",
       "      <td>0.646</td>\n",
       "      <td>4</td>\n",
       "      <td>31-10</td>\n",
       "      <td>22-19</td>\n",
       "      <td>10-6</td>\n",
       "      <td>32-20</td>\n",
       "      <td>113.9</td>\n",
       "      <td>109.1</td>\n",
       "      <td>4.8</td>\n",
       "      <td>L1</td>\n",
       "      <td>8-2</td>\n",
       "    </tr>\n",
       "    <tr>\n",
       "      <th>4</th>\n",
       "      <td>50</td>\n",
       "      <td>32</td>\n",
       "      <td>0.610</td>\n",
       "      <td>7</td>\n",
       "      <td>29-12</td>\n",
       "      <td>21-20</td>\n",
       "      <td>8-8</td>\n",
       "      <td>30-22</td>\n",
       "      <td>111.7</td>\n",
       "      <td>106.5</td>\n",
       "      <td>5.2</td>\n",
       "      <td>L1</td>\n",
       "      <td>8-2</td>\n",
       "    </tr>\n",
       "  </tbody>\n",
       "</table>\n",
       "</div>"
      ],
      "text/plain": [
       "    W   L    PCT GB   HOME   AWAY   DIV   CONF    PPG  OPP PPG  DIFF STRK  L10\n",
       "0  57  25  0.695  -  30-11  27-14  13-3  35-17  117.7    111.2   6.5   L1  8-2\n",
       "1  54  28  0.659  3   34-7  20-21  12-4  34-18  110.7    106.7   4.0   W1  5-5\n",
       "2  53  29  0.646  4   32-9  21-20  6-10  29-23  114.7    110.5   4.2   W3  8-2\n",
       "3  53  29  0.646  4  31-10  22-19  10-6  32-20  113.9    109.1   4.8   L1  8-2\n",
       "4  50  32  0.610  7  29-12  21-20   8-8  30-22  111.7    106.5   5.2   L1  8-2"
      ]
     },
     "execution_count": 62,
     "metadata": {},
     "output_type": "execute_result"
    }
   ],
   "source": [
    "dfs[7].head()"
   ]
  },
  {
   "cell_type": "code",
   "execution_count": null,
   "metadata": {
    "collapsed": true
   },
   "outputs": [],
   "source": []
  }
 ],
 "metadata": {
  "kernelspec": {
   "display_name": "Python 3",
   "language": "python",
   "name": "python3"
  },
  "language_info": {
   "codemirror_mode": {
    "name": "ipython",
    "version": 3
   },
   "file_extension": ".py",
   "mimetype": "text/x-python",
   "name": "python",
   "nbconvert_exporter": "python",
   "pygments_lexer": "ipython3",
   "version": "3.6.8"
  }
 },
 "nbformat": 4,
 "nbformat_minor": 1
}
